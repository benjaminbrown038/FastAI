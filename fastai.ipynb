{
  "nbformat": 4,
  "nbformat_minor": 0,
  "metadata": {
    "colab": {
      "provenance": [],
      "authorship_tag": "ABX9TyP+yF/czHiZnY4f42vKQ4wx",
      "include_colab_link": true
    },
    "kernelspec": {
      "name": "python3",
      "display_name": "Python 3"
    },
    "language_info": {
      "name": "python"
    }
  },
  "cells": [
    {
      "cell_type": "markdown",
      "metadata": {
        "id": "view-in-github",
        "colab_type": "text"
      },
      "source": [
        "<a href=\"https://colab.research.google.com/github/benjaminbrown038/FastAI/blob/main/fastai.ipynb\" target=\"_parent\"><img src=\"https://colab.research.google.com/assets/colab-badge.svg\" alt=\"Open In Colab\"/></a>"
      ]
    },
    {
      "cell_type": "code",
      "execution_count": null,
      "metadata": {
        "id": "aQAs4yy9fAV0"
      },
      "outputs": [],
      "source": [
        "%%capture\n",
        "from fastai.vision.all import *\n",
        "from fastai.callback.hook import *"
      ]
    },
    {
      "cell_type": "markdown",
      "source": [],
      "metadata": {
        "id": "sw2xk-3f2xXQ"
      }
    },
    {
      "cell_type": "markdown",
      "source": [],
      "metadata": {
        "id": "KsSzSf6l2yFE"
      }
    },
    {
      "cell_type": "markdown",
      "source": [],
      "metadata": {
        "id": "PKJhWeI-2yIK"
      }
    },
    {
      "cell_type": "code",
      "source": [
        "%%capture\n",
        "from fastai.vision.all import *\n",
        "from fastai.callback.hook import *"
      ],
      "metadata": {
        "id": "tpVKm6djfGB6"
      },
      "execution_count": null,
      "outputs": []
    },
    {
      "cell_type": "markdown",
      "source": [],
      "metadata": {
        "id": "pZZWxFLo2y9l"
      }
    },
    {
      "cell_type": "code",
      "source": [
        "path = untar_data(URLs.PETS)/'images'\n",
        "\n",
        "def is_cat(x):\n",
        "    return x[0].isupper()\n",
        "\n",
        "dls = ImageDataLoaders.from_name_func(path,get_image_files(path),\n",
        "                                      valid_pct = .2,seed = 42,\n",
        "                                      label_func = is_cat,\n",
        "                                      item_tfms = Resize(224))\n"
      ],
      "metadata": {
        "id": "_thKwO1R2zDR"
      },
      "execution_count": null,
      "outputs": []
    },
    {
      "cell_type": "markdown",
      "source": [],
      "metadata": {
        "id": "1udB3VGT2zJC"
      }
    },
    {
      "cell_type": "code",
      "source": [
        "lean = cnn_learner(dls,resnet34,metrics = error_rate)\n",
        "lean.fine_tune(1)"
      ],
      "metadata": {
        "id": "rKWINgwT2zOy"
      },
      "execution_count": null,
      "outputs": []
    },
    {
      "cell_type": "markdown",
      "source": [],
      "metadata": {
        "id": "lIJF0szI2zTs"
      }
    },
    {
      "cell_type": "code",
      "source": [
        "path = untar_data(URLs.MNIST_SAMPLE)\n",
        "time = torch.arange(0,20)\n",
        "params = torch.randn(3).requires_grad_()\n"
      ],
      "metadata": {
        "id": "6siYh0762zY6"
      },
      "execution_count": null,
      "outputs": []
    },
    {
      "cell_type": "markdown",
      "source": [],
      "metadata": {
        "id": "vlJ6maEq2zeH"
      }
    },
    {
      "cell_type": "code",
      "source": [],
      "metadata": {
        "id": "H-5AWy5T2zjn"
      },
      "execution_count": null,
      "outputs": []
    },
    {
      "cell_type": "markdown",
      "source": [],
      "metadata": {
        "id": "TYhwMYiz2zpT"
      }
    },
    {
      "cell_type": "code",
      "source": [],
      "metadata": {
        "id": "l9gJpmlV2zvF"
      },
      "execution_count": null,
      "outputs": []
    },
    {
      "cell_type": "markdown",
      "source": [],
      "metadata": {
        "id": "xMhpY3Hd2zz_"
      }
    },
    {
      "cell_type": "code",
      "source": [],
      "metadata": {
        "id": "86gb6D4K2z5u"
      },
      "execution_count": null,
      "outputs": []
    }
  ]
}